{
  "nbformat": 4,
  "nbformat_minor": 0,
  "metadata": {
    "colab": {
      "provenance": []
    },
    "kernelspec": {
      "name": "python3",
      "display_name": "Python 3"
    },
    "language_info": {
      "name": "python"
    }
  },
  "cells": [
    {
      "cell_type": "code",
      "execution_count": 4,
      "metadata": {
        "colab": {
          "base_uri": "https://localhost:8080/"
        },
        "id": "W1StxxgXlHb1",
        "outputId": "befdacc3-ef73-4a46-a6e8-7f1909807779"
      },
      "outputs": [
        {
          "output_type": "stream",
          "name": "stdout",
          "text": [
            "Looking in indexes: https://pypi.org/simple, https://us-python.pkg.dev/colab-wheels/public/simple/\n",
            "Requirement already satisfied: pytube in /usr/local/lib/python3.8/dist-packages (12.1.2)\n"
          ]
        }
      ],
      "source": [
        "pip install pytube"
      ]
    },
    {
      "cell_type": "code",
      "source": [
        "import pytube"
      ],
      "metadata": {
        "id": "d1kQO8ozlJ0T"
      },
      "execution_count": 5,
      "outputs": []
    },
    {
      "cell_type": "code",
      "source": [
        "link = input('Envie a url do vídeo desejado: ')\n",
        "\n",
        "yt = pytube.YouTube(link)\n",
        "\n",
        "yt.streams.first().download()\n",
        "\n",
        "print(f'O download do vídeo {link} foi feito com sucesso')"
      ],
      "metadata": {
        "colab": {
          "base_uri": "https://localhost:8080/"
        },
        "id": "nNCNrJYPlTZb",
        "outputId": "2b2d7400-4cf7-4c8b-cf9d-73bcbe8e004e"
      },
      "execution_count": 8,
      "outputs": [
        {
          "output_type": "stream",
          "name": "stdout",
          "text": [
            "Envie a url do vídeo desejado: https://www.youtube.com/watch?v=aKWV7b3j5P0\n",
            "O download do vídeo https://www.youtube.com/watch?v=aKWV7b3j5P0 foi feito com sucesso\n"
          ]
        }
      ]
    },
    {
      "cell_type": "code",
      "source": [],
      "metadata": {
        "id": "Cu_PBaKhluf5"
      },
      "execution_count": 6,
      "outputs": []
    }
  ]
}